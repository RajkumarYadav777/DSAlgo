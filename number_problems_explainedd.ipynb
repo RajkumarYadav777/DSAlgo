{
  "cells": [
    {
      "cell_type": "markdown",
      "metadata": {},
      "source": "## \u2705 1. Armstrong Number\n\nGiven an integer n, check whether it is an Armstrong number. An Armstrong number is a number that is equal to the sum of its own digits each raised to the power of the number of digits.\n\nInput: n = 153\nOutput: True\nExplanation: 1\u00b3 + 5\u00b3 + 3\u00b3 = 153"
    },
    {
      "cell_type": "code",
      "metadata": {},
      "execution_count": null,
      "outputs": [],
      "source": [
        "def is_armstrong(n):\n",
        "    temp = n  # store original number\n",
        "    res = 0\n",
        "    digits = len(str(n))  # count number of digits\n",
        "    while temp > 0:\n",
        "        dig = temp % 10  # get last digit\n",
        "        res += dig ** digits  # add digit raised to power of total digits\n",
        "        temp //= 10  # remove last digit\n",
        "    return res == n  # compare result with original\n",
        "print(is_armstrong(153))\n"
      ]
    },
    {
      "cell_type": "markdown",
      "metadata": {},
      "source": "## \u2705 2. Count Digits using math.log10()\n\nGiven an integer n, find the number of digits using logarithm. Works only if n > 0.\n\nInput: n = 9474\nOutput: 4"
    },
    {
      "cell_type": "code",
      "metadata": {},
      "execution_count": null,
      "outputs": [],
      "source": [
        "import math\n",
        "n = 9474\n",
        "print(math.floor(math.log10(n) + 1))  # use log10 to count digits\n"
      ]
    },
    {
      "cell_type": "markdown",
      "metadata": {},
      "source": "## \u2705 3. Count Digits without converting to string\n\nGiven an integer n, find number of digits without converting to string.\n\nInput: n = 234567\nOutput: 6"
    },
    {
      "cell_type": "code",
      "metadata": {},
      "execution_count": null,
      "outputs": [],
      "source": [
        "def digit_count(n):\n",
        "    count = 0  # initialize digit counter\n",
        "    while n > 0:\n",
        "        count += 1  # increment count\n",
        "        n //= 10  # remove last digit\n",
        "    return count\n",
        "print(digit_count(234567))\n"
      ]
    },
    {
      "cell_type": "markdown",
      "metadata": {},
      "source": "## \u2705 4. Count Zeros using string\n\nGiven an integer n, count how many digits are 0 by converting it to a string.\n\nInput: n = 1020300\nOutput: 3"
    },
    {
      "cell_type": "code",
      "metadata": {},
      "execution_count": null,
      "outputs": [],
      "source": [
        "def cnt_zeros_str(n):\n",
        "    count = 0\n",
        "    for dig in str(n):  # convert number to string and loop\n",
        "        if int(dig) == 0:\n",
        "            count += 1  # increment if digit is 0\n",
        "    return count\n",
        "print(cnt_zeros_str(1020300))\n"
      ]
    },
    {
      "cell_type": "markdown",
      "metadata": {},
      "source": "## \u2705 5. Count Zeros without converting to string\n\nGiven an integer n, count how many digits are 0 without converting to string.\n\nInput: n = 1020300\nOutput: 3"
    },
    {
      "cell_type": "code",
      "metadata": {},
      "execution_count": null,
      "outputs": [],
      "source": [
        "def count_zeros(n):\n",
        "    count = 0\n",
        "    while n > 0:\n",
        "        last_dig = n % 10  # get last digit\n",
        "        if last_dig == 0:\n",
        "            count += 1  # increment if it's 0\n",
        "        n = n // 10  # remove last digit\n",
        "    return count\n",
        "print(count_zeros(1020300))\n"
      ]
    },
    {
      "cell_type": "markdown",
      "metadata": {},
      "source": "## \u2705 6. Anagram Digits\n\nCheck if two integers are anagrams: they contain the same digits in any order.\n\nInput: 3456, 6345\nOutput: True"
    },
    {
      "cell_type": "code",
      "metadata": {},
      "execution_count": null,
      "outputs": [],
      "source": [
        "def anagram(n):\n",
        "    freq = [0]*10  # frequency array for digits\n",
        "    while n > 0:\n",
        "        dig = n % 10\n",
        "        freq[dig] += 1  # count each digit\n",
        "        n //= 10\n",
        "    return freq\n",
        "\n",
        "def anagram_digits(n1, n2):\n",
        "    return anagram(n1) == anagram(n2)  # compare digit frequencies\n",
        "print(anagram_digits(3456, 6345))\n"
      ]
    },
    {
      "cell_type": "markdown",
      "metadata": {},
      "source": "## \u2705 7. Palindrome Number\n\nGiven an integer n, find whether the number is Palindrome or not. A number is a Palindrome if it remains the same when its digits are reversed.\n\nInput: n = 12321\nOutput: True"
    },
    {
      "cell_type": "code",
      "metadata": {},
      "execution_count": null,
      "outputs": [],
      "source": [
        "def is_digit_palindrome(n):\n",
        "    temp = n  # store original number\n",
        "    rev = 0\n",
        "    while temp > 0:\n",
        "        dig = temp % 10  # get last digit\n",
        "        rev = rev * 10 + dig  # build reversed number\n",
        "        temp = temp // 10  # remove last digit\n",
        "    return rev == n  # check if reverse is same as original\n",
        "print(is_digit_palindrome(12321))\n"
      ]
    },
    {
      "cell_type": "markdown",
      "metadata": {},
      "source": "## \u2705 8. Digit Sum\n\nCalculate sum of digits in an integer n.\n\nInput: 12345\nOutput: 15"
    },
    {
      "cell_type": "code",
      "metadata": {},
      "execution_count": null,
      "outputs": [],
      "source": [
        "def digit_sum(n):\n",
        "    sum = 0\n",
        "    while n > 0:\n",
        "        digit = n % 10  # extract last digit\n",
        "        sum += digit  # add to sum\n",
        "        n //= 10  # drop last digit\n",
        "    return sum\n",
        "print(digit_sum(12345))\n"
      ]
    },
    {
      "cell_type": "markdown",
      "metadata": {},
      "source": "## \u2705 9. Factorial (Iterative)\n\nFind factorial of a number using a loop.\n\nInput: 5\nOutput: 120"
    },
    {
      "cell_type": "code",
      "metadata": {},
      "execution_count": null,
      "outputs": [],
      "source": [
        "def fact_num(n):\n",
        "    fact = 1\n",
        "    for i in range(1, n + 1):  # loop from 1 to n\n",
        "        fact *= i  # multiply current number\n",
        "    return fact\n",
        "print(fact_num(5))\n"
      ]
    },
    {
      "cell_type": "markdown",
      "metadata": {},
      "source": "## \u2705 10. Factorial using math module\n\nFind factorial using Python's math module.\n\nInput: 5\nOutput: 120"
    },
    {
      "cell_type": "code",
      "metadata": {},
      "execution_count": null,
      "outputs": [],
      "source": [
        "import math\n",
        "def facto(n):\n",
        "    return math.factorial(n)\n",
        "print(facto(5))\n"
      ]
    },
    {
      "cell_type": "markdown",
      "metadata": {},
      "source": "## \u2705 11. Fibonacci Sequence (Print Version)\n\nPrint first n Fibonacci numbers using tuple unpacking.\n\nInput: 5\nOutput: 0 1 1 2 3"
    },
    {
      "cell_type": "code",
      "metadata": {},
      "execution_count": null,
      "outputs": [],
      "source": [
        "def fib_seq(n):\n",
        "    a, b = 0, 1\n",
        "    for _ in range(n):  # loop n times\n",
        "        print(a)\n",
        "        a, b = b, a + b  # tuple unpacking\n"
      ]
    },
    {
      "cell_type": "markdown",
      "metadata": {},
      "source": "## \u2705 12. Fibonacci as List\n\nReturn first n Fibonacci numbers as a list.\n\nInput: 5\nOutput: [0, 1, 1, 2, 3]"
    },
    {
      "cell_type": "code",
      "metadata": {},
      "execution_count": null,
      "outputs": [],
      "source": [
        "def fib_list(n):\n",
        "    a, b = 0, 1\n",
        "    seq = []\n",
        "    for _ in range(n):\n",
        "        seq.append(a)\n",
        "        a, b = b, a + b\n",
        "    return seq\n",
        "print(fib_list(5))\n"
      ]
    },
    {
      "cell_type": "markdown",
      "metadata": {},
      "source": "## \u2705 13. Efficient Fibonacci using list\n\nReturn first n Fibonacci numbers using list access (more efficient).\n\nInput: 6\nOutput: [0, 1, 1, 2, 3, 5]"
    },
    {
      "cell_type": "code",
      "metadata": {},
      "execution_count": null,
      "outputs": [],
      "source": [
        "def fib_sequence(n):\n",
        "    if n == 0: return []\n",
        "    if n == 1: return [0]\n",
        "    fib = [0, 1]\n",
        "    for _ in range(2, n):\n",
        "        fib.append(fib[-1] + fib[-2])  # add last two numbers\n",
        "    return fib\n",
        "print(fib_sequence(6))\n"
      ]
    },
    {
      "cell_type": "markdown",
      "metadata": {},
      "source": "## \u2705 14. Happy Number\n\nCheck whether a number is happy. A happy number becomes 1 after sum of squares of its digits repeatedly.\n\nInput: 19\nOutput: True"
    },
    {
      "cell_type": "code",
      "metadata": {},
      "execution_count": null,
      "outputs": [],
      "source": [
        "def is_happy_number(n):\n",
        "    seen = set()  # to detect loop\n",
        "    while n != 1:\n",
        "        if n in seen:\n",
        "            return False\n",
        "        seen.add(n)\n",
        "        sum = 0\n",
        "        while n > 0:\n",
        "            dig = n % 10\n",
        "            sum += dig ** 2\n",
        "            n //= 10\n",
        "        n = sum\n",
        "    return True\n",
        "print(is_happy_number(19))\n"
      ]
    },
    {
      "cell_type": "markdown",
      "metadata": {},
      "source": "## \u2705 15. Prime Number (Basic)\n\nCheck if a number is prime using brute-force method.\n\nInput: 7\nOutput: True"
    },
    {
      "cell_type": "code",
      "metadata": {},
      "execution_count": null,
      "outputs": [],
      "source": [
        "def is_prime(n):\n",
        "    if n <= 1:\n",
        "        return False\n",
        "    for i in range(2, n):\n",
        "        if n % i == 0:\n",
        "            return False\n",
        "    return True\n",
        "print(is_prime(7))\n"
      ]
    },
    {
      "cell_type": "markdown",
      "metadata": {},
      "source": "## \u2705 16. Prime Number using sqrt\n\nCheck if number is prime using square root optimization.\n\nInput: 29\nOutput: True"
    },
    {
      "cell_type": "code",
      "metadata": {},
      "execution_count": null,
      "outputs": [],
      "source": [
        "def is_prime_num(n):\n",
        "    if n <= 1:\n",
        "        return False\n",
        "    for i in range(2, int(n**0.5)+1):\n",
        "        if n % i == 0:\n",
        "            return False\n",
        "    return True\n",
        "print(is_prime_num(29))\n"
      ]
    },
    {
      "cell_type": "markdown",
      "metadata": {},
      "source": "## \u2705 17. Prime Range\n\nFind all prime numbers in a range [x, y].\n\nInput: 4, 10\nOutput: [5, 7]"
    },
    {
      "cell_type": "code",
      "metadata": {},
      "execution_count": null,
      "outputs": [],
      "source": [
        "def prime_range(x, y):\n",
        "    primes = []\n",
        "    for i in range(max(x, 2), y + 1):\n",
        "        for j in range(2, int(i**0.5)+1):\n",
        "            if i % j == 0:\n",
        "                break\n",
        "        else:\n",
        "            primes.append(i)\n",
        "    return primes\n",
        "print(prime_range(4, 10))\n"
      ]
    },
    {
      "cell_type": "markdown",
      "metadata": {},
      "source": "## \u2705 18. Reverse Digits\n\nReverse the digits of an integer.\n\nInput: 1234\nOutput: 4321"
    },
    {
      "cell_type": "code",
      "metadata": {},
      "execution_count": null,
      "outputs": [],
      "source": [
        "def rev_digits(n):\n",
        "    rev = 0\n",
        "    while n > 0:\n",
        "        dig = n % 10\n",
        "        rev = rev * 10 + dig\n",
        "        n //= 10\n",
        "    return rev\n",
        "print(rev_digits(1234))\n"
      ]
    },
    {
      "cell_type": "markdown",
      "metadata": {},
      "source": "## \u2705 19. Square Root using math\n\nFind square root using math.sqrt().\n\nInput: 25\nOutput: 5.0"
    },
    {
      "cell_type": "code",
      "metadata": {},
      "execution_count": null,
      "outputs": [],
      "source": [
        "import math\n",
        "def sq_root(n):\n",
        "    return math.sqrt(n)\n",
        "print(sq_root(25))\n"
      ]
    },
    {
      "cell_type": "markdown",
      "metadata": {},
      "source": "## \u2705 20. Square Root using ** operator\n\nFind square root using power operator.\n\nInput: 36\nOutput: 6.0"
    },
    {
      "cell_type": "code",
      "metadata": {},
      "execution_count": null,
      "outputs": [],
      "source": [
        "def sq_pow(n):\n",
        "    return n ** 0.5\n",
        "print(sq_pow(36))\n"
      ]
    },
    {
      "cell_type": "markdown",
      "metadata": {},
      "source": "## \u2705 21. Square Root using Binary Search\n\nFind the floor of square root using binary search.\n\nInput: 35\nOutput: 5"
    },
    {
      "cell_type": "code",
      "metadata": {},
      "execution_count": null,
      "outputs": [],
      "source": [
        "def sqrt_dc(n):\n",
        "    if n < 0: return None\n",
        "    if n in (0, 1): return n\n",
        "    low, high = 0, n\n",
        "    result = 0\n",
        "    while low <= high:\n",
        "        mid = (low + high) // 2\n",
        "        if mid * mid == n:\n",
        "            return mid\n",
        "        elif mid * mid < n:\n",
        "            result = mid\n",
        "            low = mid + 1\n",
        "        else:\n",
        "            high = mid - 1\n",
        "    return result\n",
        "print(sqrt_dc(35))\n"
      ]
    }
  ],
  "metadata": {
    "kernelspec": {
      "display_name": "Python 3",
      "language": "python",
      "name": "python3"
    },
    "language_info": {
      "name": "python",
      "version": "3.8"
    }
  },
  "nbformat": 4,
  "nbformat_minor": 5
}